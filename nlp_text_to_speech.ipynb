{
 "cells": [
  {
   "cell_type": "code",
   "execution_count": 51,
   "id": "32c328e0",
   "metadata": {},
   "outputs": [
    {
     "name": "stderr",
     "output_type": "stream",
     "text": [
      "[nltk_data] Downloading collection 'all'\n",
      "[nltk_data]    | \n",
      "[nltk_data]    | Downloading package abc to\n",
      "[nltk_data]    |     C:\\Users\\Mudda\\AppData\\Roaming\\nltk_data...\n",
      "[nltk_data]    |   Unzipping corpora\\abc.zip.\n",
      "[nltk_data]    | Downloading package alpino to\n",
      "[nltk_data]    |     C:\\Users\\Mudda\\AppData\\Roaming\\nltk_data...\n",
      "[nltk_data]    |   Unzipping corpora\\alpino.zip.\n",
      "[nltk_data]    | Downloading package averaged_perceptron_tagger to\n",
      "[nltk_data]    |     C:\\Users\\Mudda\\AppData\\Roaming\\nltk_data...\n",
      "[nltk_data]    |   Package averaged_perceptron_tagger is already up-\n",
      "[nltk_data]    |       to-date!\n",
      "[nltk_data]    | Downloading package averaged_perceptron_tagger_ru to\n",
      "[nltk_data]    |     C:\\Users\\Mudda\\AppData\\Roaming\\nltk_data...\n",
      "[nltk_data]    |   Unzipping\n",
      "[nltk_data]    |       taggers\\averaged_perceptron_tagger_ru.zip.\n",
      "[nltk_data]    | Downloading package basque_grammars to\n",
      "[nltk_data]    |     C:\\Users\\Mudda\\AppData\\Roaming\\nltk_data...\n",
      "[nltk_data]    |   Unzipping grammars\\basque_grammars.zip.\n",
      "[nltk_data]    | Downloading package biocreative_ppi to\n",
      "[nltk_data]    |     C:\\Users\\Mudda\\AppData\\Roaming\\nltk_data...\n",
      "[nltk_data]    |   Unzipping corpora\\biocreative_ppi.zip.\n",
      "[nltk_data]    | Downloading package bllip_wsj_no_aux to\n",
      "[nltk_data]    |     C:\\Users\\Mudda\\AppData\\Roaming\\nltk_data...\n",
      "[nltk_data]    |   Unzipping models\\bllip_wsj_no_aux.zip.\n",
      "[nltk_data]    | Downloading package book_grammars to\n",
      "[nltk_data]    |     C:\\Users\\Mudda\\AppData\\Roaming\\nltk_data...\n",
      "[nltk_data]    |   Unzipping grammars\\book_grammars.zip.\n",
      "[nltk_data]    | Downloading package brown to\n",
      "[nltk_data]    |     C:\\Users\\Mudda\\AppData\\Roaming\\nltk_data...\n",
      "[nltk_data]    |   Unzipping corpora\\brown.zip.\n",
      "[nltk_data]    | Downloading package brown_tei to\n",
      "[nltk_data]    |     C:\\Users\\Mudda\\AppData\\Roaming\\nltk_data...\n",
      "[nltk_data]    |   Unzipping corpora\\brown_tei.zip.\n",
      "[nltk_data]    | Downloading package cess_cat to\n",
      "[nltk_data]    |     C:\\Users\\Mudda\\AppData\\Roaming\\nltk_data...\n",
      "[nltk_data]    |   Unzipping corpora\\cess_cat.zip.\n",
      "[nltk_data]    | Downloading package cess_esp to\n",
      "[nltk_data]    |     C:\\Users\\Mudda\\AppData\\Roaming\\nltk_data...\n",
      "[nltk_data]    |   Unzipping corpora\\cess_esp.zip.\n",
      "[nltk_data]    | Downloading package chat80 to\n",
      "[nltk_data]    |     C:\\Users\\Mudda\\AppData\\Roaming\\nltk_data...\n",
      "[nltk_data]    |   Unzipping corpora\\chat80.zip.\n",
      "[nltk_data]    | Downloading package city_database to\n",
      "[nltk_data]    |     C:\\Users\\Mudda\\AppData\\Roaming\\nltk_data...\n",
      "[nltk_data]    |   Unzipping corpora\\city_database.zip.\n",
      "[nltk_data]    | Downloading package cmudict to\n",
      "[nltk_data]    |     C:\\Users\\Mudda\\AppData\\Roaming\\nltk_data...\n",
      "[nltk_data]    |   Unzipping corpora\\cmudict.zip.\n",
      "[nltk_data]    | Downloading package comparative_sentences to\n",
      "[nltk_data]    |     C:\\Users\\Mudda\\AppData\\Roaming\\nltk_data...\n",
      "[nltk_data]    |   Unzipping corpora\\comparative_sentences.zip.\n",
      "[nltk_data]    | Downloading package comtrans to\n",
      "[nltk_data]    |     C:\\Users\\Mudda\\AppData\\Roaming\\nltk_data...\n",
      "[nltk_data]    | Downloading package conll2000 to\n",
      "[nltk_data]    |     C:\\Users\\Mudda\\AppData\\Roaming\\nltk_data...\n",
      "[nltk_data]    |   Unzipping corpora\\conll2000.zip.\n",
      "[nltk_data]    | Downloading package conll2002 to\n",
      "[nltk_data]    |     C:\\Users\\Mudda\\AppData\\Roaming\\nltk_data...\n",
      "[nltk_data]    |   Unzipping corpora\\conll2002.zip.\n",
      "[nltk_data]    | Downloading package conll2007 to\n",
      "[nltk_data]    |     C:\\Users\\Mudda\\AppData\\Roaming\\nltk_data...\n",
      "[nltk_data]    | Downloading package crubadan to\n",
      "[nltk_data]    |     C:\\Users\\Mudda\\AppData\\Roaming\\nltk_data...\n",
      "[nltk_data]    |   Unzipping corpora\\crubadan.zip.\n",
      "[nltk_data]    | Downloading package dependency_treebank to\n",
      "[nltk_data]    |     C:\\Users\\Mudda\\AppData\\Roaming\\nltk_data...\n",
      "[nltk_data]    |   Unzipping corpora\\dependency_treebank.zip.\n",
      "[nltk_data]    | Downloading package dolch to\n",
      "[nltk_data]    |     C:\\Users\\Mudda\\AppData\\Roaming\\nltk_data...\n",
      "[nltk_data]    |   Unzipping corpora\\dolch.zip.\n",
      "[nltk_data]    | Downloading package europarl_raw to\n",
      "[nltk_data]    |     C:\\Users\\Mudda\\AppData\\Roaming\\nltk_data...\n",
      "[nltk_data]    |   Unzipping corpora\\europarl_raw.zip.\n",
      "[nltk_data]    | Downloading package floresta to\n",
      "[nltk_data]    |     C:\\Users\\Mudda\\AppData\\Roaming\\nltk_data...\n",
      "[nltk_data]    |   Unzipping corpora\\floresta.zip.\n",
      "[nltk_data]    | Downloading package framenet_v15 to\n",
      "[nltk_data]    |     C:\\Users\\Mudda\\AppData\\Roaming\\nltk_data...\n",
      "[nltk_data]    |   Unzipping corpora\\framenet_v15.zip.\n",
      "[nltk_data]    | Downloading package framenet_v17 to\n",
      "[nltk_data]    |     C:\\Users\\Mudda\\AppData\\Roaming\\nltk_data...\n",
      "[nltk_data]    |   Unzipping corpora\\framenet_v17.zip.\n",
      "[nltk_data]    | Downloading package gazetteers to\n",
      "[nltk_data]    |     C:\\Users\\Mudda\\AppData\\Roaming\\nltk_data...\n",
      "[nltk_data]    |   Unzipping corpora\\gazetteers.zip.\n",
      "[nltk_data]    | Downloading package genesis to\n",
      "[nltk_data]    |     C:\\Users\\Mudda\\AppData\\Roaming\\nltk_data...\n",
      "[nltk_data]    |   Unzipping corpora\\genesis.zip.\n",
      "[nltk_data]    | Downloading package gutenberg to\n",
      "[nltk_data]    |     C:\\Users\\Mudda\\AppData\\Roaming\\nltk_data...\n",
      "[nltk_data]    |   Unzipping corpora\\gutenberg.zip.\n",
      "[nltk_data]    | Downloading package ieer to\n",
      "[nltk_data]    |     C:\\Users\\Mudda\\AppData\\Roaming\\nltk_data...\n",
      "[nltk_data]    |   Unzipping corpora\\ieer.zip.\n",
      "[nltk_data]    | Downloading package inaugural to\n",
      "[nltk_data]    |     C:\\Users\\Mudda\\AppData\\Roaming\\nltk_data...\n",
      "[nltk_data]    |   Unzipping corpora\\inaugural.zip.\n",
      "[nltk_data]    | Downloading package indian to\n",
      "[nltk_data]    |     C:\\Users\\Mudda\\AppData\\Roaming\\nltk_data...\n",
      "[nltk_data]    |   Unzipping corpora\\indian.zip.\n",
      "[nltk_data]    | Downloading package jeita to\n",
      "[nltk_data]    |     C:\\Users\\Mudda\\AppData\\Roaming\\nltk_data...\n",
      "[nltk_data]    | Downloading package kimmo to\n",
      "[nltk_data]    |     C:\\Users\\Mudda\\AppData\\Roaming\\nltk_data...\n",
      "[nltk_data]    |   Unzipping corpora\\kimmo.zip.\n",
      "[nltk_data]    | Downloading package knbc to\n",
      "[nltk_data]    |     C:\\Users\\Mudda\\AppData\\Roaming\\nltk_data...\n",
      "[nltk_data]    | Downloading package large_grammars to\n",
      "[nltk_data]    |     C:\\Users\\Mudda\\AppData\\Roaming\\nltk_data...\n",
      "[nltk_data]    |   Unzipping grammars\\large_grammars.zip.\n",
      "[nltk_data]    | Downloading package lin_thesaurus to\n",
      "[nltk_data]    |     C:\\Users\\Mudda\\AppData\\Roaming\\nltk_data...\n",
      "[nltk_data]    |   Unzipping corpora\\lin_thesaurus.zip.\n",
      "[nltk_data]    | Downloading package mac_morpho to\n",
      "[nltk_data]    |     C:\\Users\\Mudda\\AppData\\Roaming\\nltk_data...\n",
      "[nltk_data]    |   Unzipping corpora\\mac_morpho.zip.\n",
      "[nltk_data]    | Downloading package machado to\n",
      "[nltk_data]    |     C:\\Users\\Mudda\\AppData\\Roaming\\nltk_data...\n",
      "[nltk_data]    | Downloading package masc_tagged to\n",
      "[nltk_data]    |     C:\\Users\\Mudda\\AppData\\Roaming\\nltk_data...\n",
      "[nltk_data]    | Downloading package maxent_ne_chunker to\n",
      "[nltk_data]    |     C:\\Users\\Mudda\\AppData\\Roaming\\nltk_data...\n",
      "[nltk_data]    |   Unzipping chunkers\\maxent_ne_chunker.zip.\n",
      "[nltk_data]    | Downloading package maxent_treebank_pos_tagger to\n",
      "[nltk_data]    |     C:\\Users\\Mudda\\AppData\\Roaming\\nltk_data...\n",
      "[nltk_data]    |   Unzipping taggers\\maxent_treebank_pos_tagger.zip.\n",
      "[nltk_data]    | Downloading package moses_sample to\n",
      "[nltk_data]    |     C:\\Users\\Mudda\\AppData\\Roaming\\nltk_data...\n",
      "[nltk_data]    |   Unzipping models\\moses_sample.zip.\n",
      "[nltk_data]    | Downloading package movie_reviews to\n",
      "[nltk_data]    |     C:\\Users\\Mudda\\AppData\\Roaming\\nltk_data...\n",
      "[nltk_data]    |   Unzipping corpora\\movie_reviews.zip.\n",
      "[nltk_data]    | Downloading package mte_teip5 to\n",
      "[nltk_data]    |     C:\\Users\\Mudda\\AppData\\Roaming\\nltk_data...\n",
      "[nltk_data]    |   Unzipping corpora\\mte_teip5.zip.\n",
      "[nltk_data]    | Downloading package mwa_ppdb to\n",
      "[nltk_data]    |     C:\\Users\\Mudda\\AppData\\Roaming\\nltk_data...\n",
      "[nltk_data]    |   Unzipping misc\\mwa_ppdb.zip.\n",
      "[nltk_data]    | Downloading package names to\n",
      "[nltk_data]    |     C:\\Users\\Mudda\\AppData\\Roaming\\nltk_data...\n",
      "[nltk_data]    |   Unzipping corpora\\names.zip.\n",
      "[nltk_data]    | Downloading package nombank.1.0 to\n",
      "[nltk_data]    |     C:\\Users\\Mudda\\AppData\\Roaming\\nltk_data...\n",
      "[nltk_data]    | Downloading package nonbreaking_prefixes to\n",
      "[nltk_data]    |     C:\\Users\\Mudda\\AppData\\Roaming\\nltk_data...\n",
      "[nltk_data]    |   Unzipping corpora\\nonbreaking_prefixes.zip.\n",
      "[nltk_data]    | Downloading package nps_chat to\n",
      "[nltk_data]    |     C:\\Users\\Mudda\\AppData\\Roaming\\nltk_data...\n",
      "[nltk_data]    |   Unzipping corpora\\nps_chat.zip.\n",
      "[nltk_data]    | Downloading package omw to\n",
      "[nltk_data]    |     C:\\Users\\Mudda\\AppData\\Roaming\\nltk_data...\n",
      "[nltk_data]    |   Unzipping corpora\\omw.zip.\n",
      "[nltk_data]    | Downloading package omw-1.4 to\n",
      "[nltk_data]    |     C:\\Users\\Mudda\\AppData\\Roaming\\nltk_data...\n",
      "[nltk_data]    |   Unzipping corpora\\omw-1.4.zip.\n",
      "[nltk_data]    | Downloading package opinion_lexicon to\n",
      "[nltk_data]    |     C:\\Users\\Mudda\\AppData\\Roaming\\nltk_data...\n",
      "[nltk_data]    |   Unzipping corpora\\opinion_lexicon.zip.\n",
      "[nltk_data]    | Downloading package panlex_swadesh to\n",
      "[nltk_data]    |     C:\\Users\\Mudda\\AppData\\Roaming\\nltk_data...\n",
      "[nltk_data]    | Downloading package paradigms to\n",
      "[nltk_data]    |     C:\\Users\\Mudda\\AppData\\Roaming\\nltk_data...\n",
      "[nltk_data]    |   Unzipping corpora\\paradigms.zip.\n",
      "[nltk_data]    | Downloading package pe08 to\n",
      "[nltk_data]    |     C:\\Users\\Mudda\\AppData\\Roaming\\nltk_data...\n",
      "[nltk_data]    |   Unzipping corpora\\pe08.zip.\n",
      "[nltk_data]    | Downloading package perluniprops to\n",
      "[nltk_data]    |     C:\\Users\\Mudda\\AppData\\Roaming\\nltk_data...\n",
      "[nltk_data]    |   Unzipping misc\\perluniprops.zip.\n",
      "[nltk_data]    | Downloading package pil to\n",
      "[nltk_data]    |     C:\\Users\\Mudda\\AppData\\Roaming\\nltk_data...\n",
      "[nltk_data]    |   Unzipping corpora\\pil.zip.\n",
      "[nltk_data]    | Downloading package pl196x to\n",
      "[nltk_data]    |     C:\\Users\\Mudda\\AppData\\Roaming\\nltk_data...\n",
      "[nltk_data]    |   Unzipping corpora\\pl196x.zip.\n",
      "[nltk_data]    | Downloading package porter_test to\n",
      "[nltk_data]    |     C:\\Users\\Mudda\\AppData\\Roaming\\nltk_data...\n",
      "[nltk_data]    |   Unzipping stemmers\\porter_test.zip.\n",
      "[nltk_data]    | Downloading package ppattach to\n",
      "[nltk_data]    |     C:\\Users\\Mudda\\AppData\\Roaming\\nltk_data...\n",
      "[nltk_data]    |   Unzipping corpora\\ppattach.zip.\n",
      "[nltk_data]    | Downloading package problem_reports to\n",
      "[nltk_data]    |     C:\\Users\\Mudda\\AppData\\Roaming\\nltk_data...\n",
      "[nltk_data]    |   Unzipping corpora\\problem_reports.zip.\n",
      "[nltk_data]    | Downloading package product_reviews_1 to\n",
      "[nltk_data]    |     C:\\Users\\Mudda\\AppData\\Roaming\\nltk_data...\n",
      "[nltk_data]    |   Unzipping corpora\\product_reviews_1.zip.\n",
      "[nltk_data]    | Downloading package product_reviews_2 to\n",
      "[nltk_data]    |     C:\\Users\\Mudda\\AppData\\Roaming\\nltk_data...\n",
      "[nltk_data]    |   Unzipping corpora\\product_reviews_2.zip.\n",
      "[nltk_data]    | Downloading package propbank to\n",
      "[nltk_data]    |     C:\\Users\\Mudda\\AppData\\Roaming\\nltk_data...\n",
      "[nltk_data]    | Downloading package pros_cons to\n",
      "[nltk_data]    |     C:\\Users\\Mudda\\AppData\\Roaming\\nltk_data...\n",
      "[nltk_data]    |   Unzipping corpora\\pros_cons.zip.\n",
      "[nltk_data]    | Downloading package ptb to\n",
      "[nltk_data]    |     C:\\Users\\Mudda\\AppData\\Roaming\\nltk_data...\n",
      "[nltk_data]    |   Unzipping corpora\\ptb.zip.\n",
      "[nltk_data]    | Downloading package punkt to\n",
      "[nltk_data]    |     C:\\Users\\Mudda\\AppData\\Roaming\\nltk_data...\n",
      "[nltk_data]    |   Package punkt is already up-to-date!\n",
      "[nltk_data]    | Downloading package qc to\n",
      "[nltk_data]    |     C:\\Users\\Mudda\\AppData\\Roaming\\nltk_data...\n",
      "[nltk_data]    |   Unzipping corpora\\qc.zip.\n",
      "[nltk_data]    | Downloading package reuters to\n",
      "[nltk_data]    |     C:\\Users\\Mudda\\AppData\\Roaming\\nltk_data...\n",
      "[nltk_data]    | Downloading package rslp to\n",
      "[nltk_data]    |     C:\\Users\\Mudda\\AppData\\Roaming\\nltk_data...\n",
      "[nltk_data]    |   Unzipping stemmers\\rslp.zip.\n",
      "[nltk_data]    | Downloading package rte to\n",
      "[nltk_data]    |     C:\\Users\\Mudda\\AppData\\Roaming\\nltk_data...\n",
      "[nltk_data]    |   Unzipping corpora\\rte.zip.\n",
      "[nltk_data]    | Downloading package sample_grammars to\n",
      "[nltk_data]    |     C:\\Users\\Mudda\\AppData\\Roaming\\nltk_data...\n",
      "[nltk_data]    |   Unzipping grammars\\sample_grammars.zip.\n",
      "[nltk_data]    | Downloading package semcor to\n",
      "[nltk_data]    |     C:\\Users\\Mudda\\AppData\\Roaming\\nltk_data...\n",
      "[nltk_data]    | Downloading package senseval to\n",
      "[nltk_data]    |     C:\\Users\\Mudda\\AppData\\Roaming\\nltk_data...\n",
      "[nltk_data]    |   Unzipping corpora\\senseval.zip.\n",
      "[nltk_data]    | Downloading package sentence_polarity to\n",
      "[nltk_data]    |     C:\\Users\\Mudda\\AppData\\Roaming\\nltk_data...\n",
      "[nltk_data]    |   Unzipping corpora\\sentence_polarity.zip.\n",
      "[nltk_data]    | Downloading package sentiwordnet to\n",
      "[nltk_data]    |     C:\\Users\\Mudda\\AppData\\Roaming\\nltk_data...\n",
      "[nltk_data]    |   Unzipping corpora\\sentiwordnet.zip.\n",
      "[nltk_data]    | Downloading package shakespeare to\n",
      "[nltk_data]    |     C:\\Users\\Mudda\\AppData\\Roaming\\nltk_data...\n",
      "[nltk_data]    |   Unzipping corpora\\shakespeare.zip.\n",
      "[nltk_data]    | Downloading package sinica_treebank to\n",
      "[nltk_data]    |     C:\\Users\\Mudda\\AppData\\Roaming\\nltk_data...\n",
      "[nltk_data]    |   Unzipping corpora\\sinica_treebank.zip.\n",
      "[nltk_data]    | Downloading package smultron to\n",
      "[nltk_data]    |     C:\\Users\\Mudda\\AppData\\Roaming\\nltk_data...\n",
      "[nltk_data]    |   Unzipping corpora\\smultron.zip.\n",
      "[nltk_data]    | Downloading package snowball_data to\n",
      "[nltk_data]    |     C:\\Users\\Mudda\\AppData\\Roaming\\nltk_data...\n",
      "[nltk_data]    | Downloading package spanish_grammars to\n",
      "[nltk_data]    |     C:\\Users\\Mudda\\AppData\\Roaming\\nltk_data...\n",
      "[nltk_data]    |   Unzipping grammars\\spanish_grammars.zip.\n",
      "[nltk_data]    | Downloading package state_union to\n",
      "[nltk_data]    |     C:\\Users\\Mudda\\AppData\\Roaming\\nltk_data...\n",
      "[nltk_data]    |   Unzipping corpora\\state_union.zip.\n",
      "[nltk_data]    | Downloading package stopwords to\n",
      "[nltk_data]    |     C:\\Users\\Mudda\\AppData\\Roaming\\nltk_data...\n",
      "[nltk_data]    |   Unzipping corpora\\stopwords.zip.\n",
      "[nltk_data]    | Downloading package subjectivity to\n",
      "[nltk_data]    |     C:\\Users\\Mudda\\AppData\\Roaming\\nltk_data...\n",
      "[nltk_data]    |   Unzipping corpora\\subjectivity.zip.\n",
      "[nltk_data]    | Downloading package swadesh to\n",
      "[nltk_data]    |     C:\\Users\\Mudda\\AppData\\Roaming\\nltk_data...\n",
      "[nltk_data]    |   Unzipping corpora\\swadesh.zip.\n",
      "[nltk_data]    | Downloading package switchboard to\n",
      "[nltk_data]    |     C:\\Users\\Mudda\\AppData\\Roaming\\nltk_data...\n",
      "[nltk_data]    |   Unzipping corpora\\switchboard.zip.\n",
      "[nltk_data]    | Downloading package tagsets to\n",
      "[nltk_data]    |     C:\\Users\\Mudda\\AppData\\Roaming\\nltk_data...\n",
      "[nltk_data]    |   Unzipping help\\tagsets.zip.\n",
      "[nltk_data]    | Downloading package timit to\n",
      "[nltk_data]    |     C:\\Users\\Mudda\\AppData\\Roaming\\nltk_data...\n",
      "[nltk_data]    |   Unzipping corpora\\timit.zip.\n",
      "[nltk_data]    | Downloading package toolbox to\n",
      "[nltk_data]    |     C:\\Users\\Mudda\\AppData\\Roaming\\nltk_data...\n",
      "[nltk_data]    |   Unzipping corpora\\toolbox.zip.\n",
      "[nltk_data]    | Downloading package treebank to\n",
      "[nltk_data]    |     C:\\Users\\Mudda\\AppData\\Roaming\\nltk_data...\n",
      "[nltk_data]    |   Unzipping corpora\\treebank.zip.\n",
      "[nltk_data]    | Downloading package twitter_samples to\n",
      "[nltk_data]    |     C:\\Users\\Mudda\\AppData\\Roaming\\nltk_data...\n",
      "[nltk_data]    |   Unzipping corpora\\twitter_samples.zip.\n",
      "[nltk_data]    | Downloading package udhr to\n",
      "[nltk_data]    |     C:\\Users\\Mudda\\AppData\\Roaming\\nltk_data...\n",
      "[nltk_data]    |   Unzipping corpora\\udhr.zip.\n",
      "[nltk_data]    | Downloading package udhr2 to\n",
      "[nltk_data]    |     C:\\Users\\Mudda\\AppData\\Roaming\\nltk_data...\n",
      "[nltk_data]    |   Unzipping corpora\\udhr2.zip.\n",
      "[nltk_data]    | Downloading package unicode_samples to\n",
      "[nltk_data]    |     C:\\Users\\Mudda\\AppData\\Roaming\\nltk_data...\n",
      "[nltk_data]    |   Unzipping corpora\\unicode_samples.zip.\n",
      "[nltk_data]    | Downloading package universal_tagset to\n",
      "[nltk_data]    |     C:\\Users\\Mudda\\AppData\\Roaming\\nltk_data...\n",
      "[nltk_data]    |   Unzipping taggers\\universal_tagset.zip.\n",
      "[nltk_data]    | Downloading package universal_treebanks_v20 to\n",
      "[nltk_data]    |     C:\\Users\\Mudda\\AppData\\Roaming\\nltk_data...\n",
      "[nltk_data]    | Downloading package vader_lexicon to\n",
      "[nltk_data]    |     C:\\Users\\Mudda\\AppData\\Roaming\\nltk_data...\n",
      "[nltk_data]    | Downloading package verbnet to\n",
      "[nltk_data]    |     C:\\Users\\Mudda\\AppData\\Roaming\\nltk_data...\n",
      "[nltk_data]    |   Unzipping corpora\\verbnet.zip.\n",
      "[nltk_data]    | Downloading package verbnet3 to\n",
      "[nltk_data]    |     C:\\Users\\Mudda\\AppData\\Roaming\\nltk_data...\n",
      "[nltk_data]    |   Unzipping corpora\\verbnet3.zip.\n",
      "[nltk_data]    | Downloading package webtext to\n",
      "[nltk_data]    |     C:\\Users\\Mudda\\AppData\\Roaming\\nltk_data...\n",
      "[nltk_data]    |   Unzipping corpora\\webtext.zip.\n",
      "[nltk_data]    | Downloading package wmt15_eval to\n",
      "[nltk_data]    |     C:\\Users\\Mudda\\AppData\\Roaming\\nltk_data...\n",
      "[nltk_data]    |   Unzipping models\\wmt15_eval.zip.\n",
      "[nltk_data]    | Downloading package word2vec_sample to\n",
      "[nltk_data]    |     C:\\Users\\Mudda\\AppData\\Roaming\\nltk_data...\n",
      "[nltk_data]    |   Unzipping models\\word2vec_sample.zip.\n",
      "[nltk_data]    | Downloading package wordnet to\n",
      "[nltk_data]    |     C:\\Users\\Mudda\\AppData\\Roaming\\nltk_data...\n",
      "[nltk_data]    |   Unzipping corpora\\wordnet.zip.\n",
      "[nltk_data]    | Downloading package wordnet2021 to\n",
      "[nltk_data]    |     C:\\Users\\Mudda\\AppData\\Roaming\\nltk_data...\n",
      "[nltk_data]    |   Unzipping corpora\\wordnet2021.zip.\n",
      "[nltk_data]    | Downloading package wordnet31 to\n",
      "[nltk_data]    |     C:\\Users\\Mudda\\AppData\\Roaming\\nltk_data...\n",
      "[nltk_data]    |   Unzipping corpora\\wordnet31.zip.\n",
      "[nltk_data]    | Downloading package wordnet_ic to\n",
      "[nltk_data]    |     C:\\Users\\Mudda\\AppData\\Roaming\\nltk_data...\n",
      "[nltk_data]    |   Unzipping corpora\\wordnet_ic.zip.\n",
      "[nltk_data]    | Downloading package words to\n",
      "[nltk_data]    |     C:\\Users\\Mudda\\AppData\\Roaming\\nltk_data...\n",
      "[nltk_data]    |   Unzipping corpora\\words.zip.\n",
      "[nltk_data]    | Downloading package ycoe to\n",
      "[nltk_data]    |     C:\\Users\\Mudda\\AppData\\Roaming\\nltk_data...\n",
      "[nltk_data]    |   Unzipping corpora\\ycoe.zip.\n",
      "[nltk_data]    | \n",
      "[nltk_data]  Done downloading collection all\n",
      "[nltk_data] Downloading package punkt to\n",
      "[nltk_data]     C:\\Users\\Mudda\\AppData\\Roaming\\nltk_data...\n",
      "[nltk_data]   Package punkt is already up-to-date!\n",
      "[nltk_data] Downloading package averaged_perceptron_tagger to\n",
      "[nltk_data]     C:\\Users\\Mudda\\AppData\\Roaming\\nltk_data...\n",
      "[nltk_data]   Package averaged_perceptron_tagger is already up-to-\n",
      "[nltk_data]       date!\n"
     ]
    },
    {
     "data": {
      "text/plain": [
       "True"
      ]
     },
     "execution_count": 51,
     "metadata": {},
     "output_type": "execute_result"
    }
   ],
   "source": [
    "import nltk; nltk.download('all') #nlp tool kit\n",
    "#This tokenizer divides a text into a list of sentences, by using an unsupervised algorithm to build a model for words that \n",
    "#start sentences. \n",
    "nltk.download('punkt')\n",
    "nltk.download('averaged_perceptron_tagger')\n"
   ]
  },
  {
   "cell_type": "code",
   "execution_count": 53,
   "id": "11b9e306",
   "metadata": {},
   "outputs": [],
   "source": [
    "import nltk.corpus #The modules in this package provide functions that can be\n",
    "#used to read corpus files in a variety of formats.\n",
    "#corpus is a large and structured set of machine-readable texts"
   ]
  },
  {
   "cell_type": "code",
   "execution_count": 54,
   "id": "9ed1a675",
   "metadata": {},
   "outputs": [],
   "source": [
    "#Tokenization\n",
    "from nltk.tokenize import word_tokenize"
   ]
  },
  {
   "cell_type": "code",
   "execution_count": 55,
   "id": "bf3c6df2",
   "metadata": {},
   "outputs": [],
   "source": [
    "agi = \"Ben Geortzel is the best agi researcher in the world\""
   ]
  },
  {
   "cell_type": "code",
   "execution_count": 56,
   "id": "a5fe710b",
   "metadata": {},
   "outputs": [
    {
     "data": {
      "text/plain": [
       "['Ben',\n",
       " 'Geortzel',\n",
       " 'is',\n",
       " 'the',\n",
       " 'best',\n",
       " 'agi',\n",
       " 'researcher',\n",
       " 'in',\n",
       " 'the',\n",
       " 'world']"
      ]
     },
     "execution_count": 56,
     "metadata": {},
     "output_type": "execute_result"
    }
   ],
   "source": [
    "word_tokenize(agi)"
   ]
  },
  {
   "cell_type": "code",
   "execution_count": 57,
   "id": "d6b14494",
   "metadata": {},
   "outputs": [],
   "source": [
    "#sentence tokenizer\n",
    "from nltk.tokenize import sent_tokenize"
   ]
  },
  {
   "cell_type": "code",
   "execution_count": 58,
   "id": "ed102f9b",
   "metadata": {},
   "outputs": [],
   "source": [
    "agi2 = \"Ben Geortzel is the one of the best agi researcher in the world. Ilya Sutskever is one of the best best ai researcher in the world\""
   ]
  },
  {
   "cell_type": "code",
   "execution_count": 59,
   "id": "ff333d78",
   "metadata": {},
   "outputs": [
    {
     "data": {
      "text/plain": [
       "['Ben Geortzel is the one of the best agi researcher in the world.',\n",
       " 'Ilya Sutskever is one of the best best ai researcher in the world']"
      ]
     },
     "execution_count": 59,
     "metadata": {},
     "output_type": "execute_result"
    }
   ],
   "source": [
    "sent_tokenize(agi2)"
   ]
  },
  {
   "cell_type": "code",
   "execution_count": 60,
   "id": "3715363b",
   "metadata": {},
   "outputs": [
    {
     "data": {
      "text/plain": [
       "10"
      ]
     },
     "execution_count": 60,
     "metadata": {},
     "output_type": "execute_result"
    }
   ],
   "source": [
    "#Checking the number of tokens\n",
    "len(word_tokenize(agi))"
   ]
  },
  {
   "cell_type": "code",
   "execution_count": 61,
   "id": "aa39a7de",
   "metadata": {},
   "outputs": [],
   "source": [
    "#bigrams and n-grams (bigram is two words[I want], n-gram is one word. [I])\n",
    "AI_Astronaut_Assistant = \"CIMON is the first free-flying astronaut assistant in space.\" "
   ]
  },
  {
   "cell_type": "code",
   "execution_count": 62,
   "id": "574bff15",
   "metadata": {},
   "outputs": [],
   "source": [
    "AI_Astronaut_Assistant_token=(word_tokenize(AI_Astronaut_Assistant))"
   ]
  },
  {
   "cell_type": "code",
   "execution_count": 63,
   "id": "3ef659c0",
   "metadata": {},
   "outputs": [
    {
     "data": {
      "text/plain": [
       "[('CIMON', 'is'),\n",
       " ('is', 'the'),\n",
       " ('the', 'first'),\n",
       " ('first', 'free-flying'),\n",
       " ('free-flying', 'astronaut'),\n",
       " ('astronaut', 'assistant'),\n",
       " ('assistant', 'in'),\n",
       " ('in', 'space'),\n",
       " ('space', '.')]"
      ]
     },
     "execution_count": 63,
     "metadata": {},
     "output_type": "execute_result"
    }
   ],
   "source": [
    "list(nltk.bigrams(AI_Astronaut_Assistant_token))"
   ]
  },
  {
   "cell_type": "code",
   "execution_count": 64,
   "id": "86ce8ce1",
   "metadata": {},
   "outputs": [
    {
     "data": {
      "text/plain": [
       "[('CIMON', 'is', 'the'),\n",
       " ('is', 'the', 'first'),\n",
       " ('the', 'first', 'free-flying'),\n",
       " ('first', 'free-flying', 'astronaut'),\n",
       " ('free-flying', 'astronaut', 'assistant'),\n",
       " ('astronaut', 'assistant', 'in'),\n",
       " ('assistant', 'in', 'space'),\n",
       " ('in', 'space', '.')]"
      ]
     },
     "execution_count": 64,
     "metadata": {},
     "output_type": "execute_result"
    }
   ],
   "source": [
    "list(nltk.trigrams(AI_Astronaut_Assistant_token))"
   ]
  },
  {
   "cell_type": "code",
   "execution_count": 65,
   "id": "d8061090",
   "metadata": {},
   "outputs": [
    {
     "data": {
      "text/plain": [
       "[('CIMON', 'is', 'the', 'first', 'free-flying'),\n",
       " ('is', 'the', 'first', 'free-flying', 'astronaut'),\n",
       " ('the', 'first', 'free-flying', 'astronaut', 'assistant'),\n",
       " ('first', 'free-flying', 'astronaut', 'assistant', 'in'),\n",
       " ('free-flying', 'astronaut', 'assistant', 'in', 'space'),\n",
       " ('astronaut', 'assistant', 'in', 'space', '.')]"
      ]
     },
     "execution_count": 65,
     "metadata": {},
     "output_type": "execute_result"
    }
   ],
   "source": [
    "list(nltk.ngrams(AI_Astronaut_Assistant_token,5))"
   ]
  },
  {
   "cell_type": "code",
   "execution_count": 66,
   "id": "64650248",
   "metadata": {},
   "outputs": [],
   "source": [
    "#Stemming\n",
    "from nltk.stem import PorterStemmer"
   ]
  },
  {
   "cell_type": "code",
   "execution_count": 67,
   "id": "629377cb",
   "metadata": {},
   "outputs": [],
   "source": [
    "my_stem = PorterStemmer()"
   ]
  },
  {
   "cell_type": "code",
   "execution_count": 68,
   "id": "50d1dd59",
   "metadata": {},
   "outputs": [
    {
     "data": {
      "text/plain": [
       "'eat'"
      ]
     },
     "execution_count": 68,
     "metadata": {},
     "output_type": "execute_result"
    }
   ],
   "source": [
    "my_stem.stem(\"eating\")"
   ]
  },
  {
   "cell_type": "code",
   "execution_count": 69,
   "id": "a7c2ca19",
   "metadata": {},
   "outputs": [
    {
     "data": {
      "text/plain": [
       "'go'"
      ]
     },
     "execution_count": 69,
     "metadata": {},
     "output_type": "execute_result"
    }
   ],
   "source": [
    "my_stem.stem(\"going\")"
   ]
  },
  {
   "cell_type": "code",
   "execution_count": 70,
   "id": "12c52a52",
   "metadata": {},
   "outputs": [
    {
     "data": {
      "text/plain": [
       "'shop'"
      ]
     },
     "execution_count": 70,
     "metadata": {},
     "output_type": "execute_result"
    }
   ],
   "source": [
    "my_stem.stem(\"shopping\")"
   ]
  },
  {
   "cell_type": "code",
   "execution_count": 71,
   "id": "c28d19dd",
   "metadata": {},
   "outputs": [],
   "source": [
    "#pos-tagging (Part-of-speech (POS) tagging refers to categorizing words in a text \n",
    "#(corpus) in correspondence with a particular part of speech, depending on the definition of the word and its context.)\n",
    "\n",
    "Ameca = \"Ameca is the best humanoid robot in the world\""
   ]
  },
  {
   "cell_type": "code",
   "execution_count": 72,
   "id": "a631099f",
   "metadata": {},
   "outputs": [],
   "source": [
    "Ameca_token = word_tokenize(Ameca)"
   ]
  },
  {
   "cell_type": "code",
   "execution_count": 73,
   "id": "9cca45e2",
   "metadata": {},
   "outputs": [
    {
     "data": {
      "text/plain": [
       "[('Ameca', 'NNP'),\n",
       " ('is', 'VBZ'),\n",
       " ('the', 'DT'),\n",
       " ('best', 'JJS'),\n",
       " ('humanoid', 'NN'),\n",
       " ('robot', 'NN'),\n",
       " ('in', 'IN'),\n",
       " ('the', 'DT'),\n",
       " ('world', 'NN')]"
      ]
     },
     "execution_count": 73,
     "metadata": {},
     "output_type": "execute_result"
    }
   ],
   "source": [
    "nltk.pos_tag(Ameca_token)"
   ]
  },
  {
   "cell_type": "code",
   "execution_count": 74,
   "id": "d1411bfe",
   "metadata": {},
   "outputs": [],
   "source": [
    "#Named entity regonition (finding specific words)\n",
    "from nltk import ne_chunk"
   ]
  },
  {
   "cell_type": "code",
   "execution_count": 75,
   "id": "40d77e5e",
   "metadata": {},
   "outputs": [],
   "source": [
    "Biotech = \"AI in Biotech plays a crucial role in boosting innovation not only in the laboratories but also throughout the lifecycle of a drug\""
   ]
  },
  {
   "cell_type": "code",
   "execution_count": 76,
   "id": "9ab6cc42",
   "metadata": {},
   "outputs": [],
   "source": [
    "Biotech_token = word_tokenize(Biotech)"
   ]
  },
  {
   "cell_type": "code",
   "execution_count": 77,
   "id": "1632e07c",
   "metadata": {},
   "outputs": [],
   "source": [
    "Biotech_pos = nltk.pos_tag(Biotech_token)"
   ]
  },
  {
   "cell_type": "code",
   "execution_count": 78,
   "id": "89085a1a",
   "metadata": {},
   "outputs": [
    {
     "name": "stdout",
     "output_type": "stream",
     "text": [
      "(S\n",
      "  AI/NNP\n",
      "  in/IN\n",
      "  (GPE Biotech/NNP)\n",
      "  plays/VBZ\n",
      "  a/DT\n",
      "  crucial/JJ\n",
      "  role/NN\n",
      "  in/IN\n",
      "  boosting/VBG\n",
      "  innovation/NN\n",
      "  not/RB\n",
      "  only/RB\n",
      "  in/IN\n",
      "  the/DT\n",
      "  laboratories/NNS\n",
      "  but/CC\n",
      "  also/RB\n",
      "  throughout/IN\n",
      "  the/DT\n",
      "  lifecycle/NN\n",
      "  of/IN\n",
      "  a/DT\n",
      "  drug/NN)\n"
     ]
    }
   ],
   "source": [
    "print(ne_chunk(Biotech_pos))"
   ]
  },
  {
   "cell_type": "code",
   "execution_count": 80,
   "id": "d37a644f",
   "metadata": {},
   "outputs": [
    {
     "name": "stdout",
     "output_type": "stream",
     "text": [
      "Requirement already satisfied: gTTS in d:\\agi\\anaconda\\lib\\site-packages (2.2.3)\n",
      "Requirement already satisfied: requests in d:\\agi\\anaconda\\lib\\site-packages (from gTTS) (2.25.1)\n",
      "Requirement already satisfied: click in d:\\agi\\anaconda\\lib\\site-packages (from gTTS) (7.1.2)\n",
      "Requirement already satisfied: six in d:\\agi\\anaconda\\lib\\site-packages (from gTTS) (1.15.0)\n",
      "Requirement already satisfied: idna<3,>=2.5 in d:\\agi\\anaconda\\lib\\site-packages (from requests->gTTS) (2.10)\n",
      "Requirement already satisfied: certifi>=2017.4.17 in d:\\agi\\anaconda\\lib\\site-packages (from requests->gTTS) (2020.12.5)\n",
      "Requirement already satisfied: urllib3<1.27,>=1.21.1 in d:\\agi\\anaconda\\lib\\site-packages (from requests->gTTS) (1.26.4)\n",
      "Requirement already satisfied: chardet<5,>=3.0.2 in d:\\agi\\anaconda\\lib\\site-packages (from requests->gTTS) (4.0.0)\n"
     ]
    }
   ],
   "source": [
    "#gTTS (Google Text-to-Speech)\n",
    "!pip install gTTS"
   ]
  },
  {
   "cell_type": "code",
   "execution_count": 82,
   "id": "a79c50f1",
   "metadata": {},
   "outputs": [
    {
     "data": {
      "text/html": [
       "\n",
       "                <audio  controls=\"controls\" autoplay=\"autoplay\">\n",
       "                    <source src=\"data:audio/wav;base64,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\" type=\"audio/wav\" />\n",
       "                    Your browser does not support the audio element.\n",
       "                </audio>\n",
       "              "
      ],
      "text/plain": [
       "<IPython.lib.display.Audio object>"
      ]
     },
     "execution_count": 82,
     "metadata": {},
     "output_type": "execute_result"
    }
   ],
   "source": [
    "from gtts import gTTS\n",
    "from IPython.display import Audio\n",
    "tts = gTTS('In 2000, Bengio authored the landmark paper, “A Neural Probabilistic Language Model,” that introduced high-dimension word embeddings as a representation of word meaning.')\n",
    "tts.save('1.wav')\n",
    "sound_file = '1.wav'\n",
    "Audio(sound_file, autoplay=True)"
   ]
  },
  {
   "cell_type": "code",
   "execution_count": null,
   "id": "b5fc96e1",
   "metadata": {},
   "outputs": [],
   "source": []
  }
 ],
 "metadata": {
  "kernelspec": {
   "display_name": "Python 3",
   "language": "python",
   "name": "python3"
  },
  "language_info": {
   "codemirror_mode": {
    "name": "ipython",
    "version": 3
   },
   "file_extension": ".py",
   "mimetype": "text/x-python",
   "name": "python",
   "nbconvert_exporter": "python",
   "pygments_lexer": "ipython3",
   "version": "3.8.8"
  }
 },
 "nbformat": 4,
 "nbformat_minor": 5
}
